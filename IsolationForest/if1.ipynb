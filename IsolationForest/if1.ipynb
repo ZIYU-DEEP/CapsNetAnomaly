{
 "cells": [
  {
   "cell_type": "code",
   "execution_count": 1,
   "metadata": {},
   "outputs": [
    {
     "name": "stderr",
     "output_type": "stream",
     "text": [
      "/home/inderjeet78/anaconda3/lib/python3.6/site-packages/sklearn/cross_validation.py:41: DeprecationWarning: This module was deprecated in version 0.18 in favor of the model_selection module into which all the refactored classes and functions are moved. Also note that the interface of the new CV iterators are different from that of this module. This module will be removed in 0.20.\n",
      "  \"This module will be removed in 0.20.\", DeprecationWarning)\n"
     ]
    }
   ],
   "source": [
    "import warnings\n",
    "warnings.filterwarnings(\"ignore\")\n",
    "import pandas as pd\n",
    "import matplotlib.pyplot as plt\n",
    "import seaborn as sns\n",
    "import numpy as np\n",
    "from sklearn.preprocessing import StandardScaler\n",
    "from sklearn.cross_validation import train_test_split\n",
    "from sklearn.metrics import confusion_matrix,precision_recall_curve,f1_score,precision_score,recall_score,auc,roc_auc_score,roc_curve,recall_score,classification_report,accuracy_score\n",
    "from sklearn.ensemble import IsolationForest\n",
    "import matplotlib.pyplot as plt\n",
    "import numpy as np\n",
    "import pandas as pd\n",
    "import seaborn as sns\n",
    "from sklearn.cross_validation import KFold, cross_val_score\n",
    "from sklearn.model_selection import GridSearchCV\n",
    "import warnings\n",
    "warnings.filterwarnings(\"ignore\")\n",
    "np.random.seed(42)"
   ]
  },
  {
   "cell_type": "code",
   "execution_count": 2,
   "metadata": {
    "scrolled": true
   },
   "outputs": [
    {
     "name": "stdout",
     "output_type": "stream",
     "text": [
      "WARNING:tensorflow:From <ipython-input-2-4141630e56b4>:3: read_data_sets (from tensorflow.contrib.learn.python.learn.datasets.mnist) is deprecated and will be removed in a future version.\n",
      "Instructions for updating:\n",
      "Please use alternatives such as official/mnist/dataset.py from tensorflow/models.\n",
      "WARNING:tensorflow:From /home/inderjeet78/anaconda3/lib/python3.6/site-packages/tensorflow/contrib/learn/python/learn/datasets/mnist.py:260: maybe_download (from tensorflow.contrib.learn.python.learn.datasets.base) is deprecated and will be removed in a future version.\n",
      "Instructions for updating:\n",
      "Please write your own downloading logic.\n",
      "WARNING:tensorflow:From /home/inderjeet78/anaconda3/lib/python3.6/site-packages/tensorflow/contrib/learn/python/learn/datasets/mnist.py:262: extract_images (from tensorflow.contrib.learn.python.learn.datasets.mnist) is deprecated and will be removed in a future version.\n",
      "Instructions for updating:\n",
      "Please use tf.data to implement this functionality.\n",
      "Extracting /tmp/data/train-images-idx3-ubyte.gz\n",
      "WARNING:tensorflow:From /home/inderjeet78/anaconda3/lib/python3.6/site-packages/tensorflow/contrib/learn/python/learn/datasets/mnist.py:267: extract_labels (from tensorflow.contrib.learn.python.learn.datasets.mnist) is deprecated and will be removed in a future version.\n",
      "Instructions for updating:\n",
      "Please use tf.data to implement this functionality.\n",
      "Extracting /tmp/data/train-labels-idx1-ubyte.gz\n",
      "Extracting /tmp/data/t10k-images-idx3-ubyte.gz\n",
      "Extracting /tmp/data/t10k-labels-idx1-ubyte.gz\n",
      "WARNING:tensorflow:From /home/inderjeet78/anaconda3/lib/python3.6/site-packages/tensorflow/contrib/learn/python/learn/datasets/mnist.py:290: DataSet.__init__ (from tensorflow.contrib.learn.python.learn.datasets.mnist) is deprecated and will be removed in a future version.\n",
      "Instructions for updating:\n",
      "Please use alternatives such as official/mnist/dataset.py from tensorflow/models.\n"
     ]
    }
   ],
   "source": [
    "from tensorflow.examples.tutorials.mnist import input_data\n",
    "\n",
    "mnist = input_data.read_data_sets(\"/tmp/data/\")"
   ]
  },
  {
   "cell_type": "markdown",
   "metadata": {},
   "source": [
    "# Training data prepration"
   ]
  },
  {
   "cell_type": "code",
   "execution_count": 3,
   "metadata": {},
   "outputs": [
    {
     "name": "stdout",
     "output_type": "stream",
     "text": [
      "(6179, 785)\n",
      "(48821, 785)\n",
      "[[0. 0. 0. ... 0. 0. 7.]\n",
      " [0. 0. 0. ... 0. 0. 3.]\n",
      " [0. 0. 0. ... 0. 0. 4.]\n",
      " ...\n",
      " [0. 0. 0. ... 0. 0. 5.]\n",
      " [0. 0. 0. ... 0. 0. 6.]\n",
      " [0. 0. 0. ... 0. 0. 8.]]\n",
      "(48821, 785)\n",
      "(321, 785)\n"
     ]
    }
   ],
   "source": [
    "c1_x = mnist.train.images[mnist.train.labels==1]\n",
    "c1_y = mnist.train.labels[mnist.train.labels==1]\n",
    "c1_y = c1_y[:,None]\n",
    "other_x = mnist.train.images[mnist.train.labels!=1]\n",
    "other_y = mnist.train.labels[mnist.train.labels!=1]\n",
    "other_y=other_y[:,None]\n",
    "\n",
    "np.random.seed(42)\n",
    "c1 = np.concatenate((c1_x,c1_y),axis=1)\n",
    "others = np.concatenate((other_x,other_y), axis=1)\n",
    "print(c1.shape)\n",
    "print(others.shape)\n",
    "print(others)\n",
    "np.random.shuffle(others)\n",
    "others = np.array(others)\n",
    "print(others.shape)\n",
    "others321 = others[0:321,:]\n",
    "print(others321.shape)\n",
    "train = np.concatenate((c1,others321),axis=0)\n",
    "np.random.shuffle(train)\n",
    "X_train = train[:,0:-1]\n",
    "Y_train = train[:,-1]\n",
    "Y_train[Y_train==0]=2\n",
    "Y_train[Y_train==1]=0\n",
    "Y_train[Y_train!=0]=1\n",
    "\n",
    "sum(Y_train)\n",
    "\n",
    "\n",
    "\n",
    "\n",
    "\n",
    "# Validation data prepration\n",
    "\n",
    "np.random.seed(42)\n",
    "valX_ones = mnist.validation.images[mnist.validation.labels==1]\n",
    "valY_ones = mnist.validation.labels[mnist.validation.labels==1]\n",
    "valX_others = mnist.validation.images[mnist.validation.labels!=1]\n",
    "valY_others = mnist.validation.labels[mnist.validation.labels!=1]\n",
    "valY_ones = valY_ones[:,None]\n",
    "valY_others = valY_others[:,None]\n",
    "val_ones = np.concatenate((valX_ones,valY_ones),axis=1)\n",
    "val_others = np.concatenate((valX_others,valY_others),axis=1)\n",
    "np.random.shuffle(val_others)\n",
    "val_others137 = val_others[0:137,:]\n",
    "val = np.concatenate((val_ones,val_others137),axis=0)\n",
    "np.random.shuffle(val)\n",
    "valX = val[:,0:-1]\n",
    "valY = val[:,-1]\n",
    "valY[valY==0]=2\n",
    "valY[valY==1]=0\n",
    "valY[valY!=0]=1\n",
    "\n",
    "sum(valY)\n",
    "\n",
    "# Test data prepration\n",
    "\n",
    "np.random.seed(42)\n",
    "testX_ones = mnist.test.images[mnist.test.labels==1]\n",
    "testY_ones = mnist.test.labels[mnist.test.labels==1]\n",
    "testX_others = mnist.test.images[mnist.test.labels!=1]\n",
    "testY_others = mnist.test.labels[mnist.test.labels!=1]\n",
    "testY_ones = testY_ones[:,None]\n",
    "testY_others = testY_others[:,None]\n",
    "test_ones = np.concatenate((testX_ones,testY_ones),axis=1)\n",
    "test_others = np.concatenate((testX_others,testY_others),axis=1)\n",
    "np.random.shuffle(test_others)\n",
    "test_others137 = test_others[0:137,:]\n",
    "test = np.concatenate((test_ones,test_others137),axis=0)\n",
    "np.random.shuffle(test)\n",
    "testX = test[:,0:-1]\n",
    "testY = test[:,-1]\n",
    "testY[testY==0]=2\n",
    "testY[testY==1]=0\n",
    "testY[testY!=0]=1"
   ]
  },
  {
   "cell_type": "markdown",
   "metadata": {},
   "source": [
    "# Cross validation"
   ]
  },
  {
   "cell_type": "code",
   "execution_count": 1,
   "metadata": {},
   "outputs": [
    {
     "data": {
      "text/plain": [
       "'f1 = []\\nfor m in range(0,150):\\n    for n in range(0,1500):\\n        clf = IsolationForest(n_estimators=n,max_features=m,contamination=0.10,random_state=21)\\n        clf.fit(X_train)\\n        scores_pred = clf.decision_function(X_train)\\n        y_pred=clf.predict(valX)\\n        y_pred[y_pred==1]=0\\n        y_pred[y_pred==-1]=1\\n        f = f1_score(valY,y_pred)\\n        f1.append(f)\\nprint(\"Best f-1 Score 10/90 for Isolation Forest is : \",max(f1) )\\nprint(\"Best f-1 Score 10/90 for Isolation Forest parameters grid no. : \", f1.index(max(f1))+1) '"
      ]
     },
     "execution_count": 1,
     "metadata": {},
     "output_type": "execute_result"
    }
   ],
   "source": [
    "\"\"\"f1 = []\n",
    "for m in range(0,150):\n",
    "    for n in range(0,1500):\n",
    "        clf = IsolationForest(n_estimators=n,max_features=m,contamination=0.10,random_state=21)\n",
    "        clf.fit(X_train)\n",
    "        scores_pred = clf.decision_function(X_train)\n",
    "        y_pred=clf.predict(valX)\n",
    "        y_pred[y_pred==1]=0\n",
    "        y_pred[y_pred==-1]=1\n",
    "        f = f1_score(valY,y_pred)\n",
    "        f1.append(f)\n",
    "print(\"Best f-1 Score 10/90 for Isolation Forest is : \",max(f1) )\n",
    "print(\"Best f-1 Score 10/90 for Isolation Forest parameters grid no. : \", f1.index(max(f1))+1) \"\"\""
   ]
  },
  {
   "cell_type": "markdown",
   "metadata": {},
   "source": [
    "# Testing"
   ]
  },
  {
   "cell_type": "code",
   "execution_count": 4,
   "metadata": {
    "scrolled": true
   },
   "outputs": [
    {
     "name": "stdout",
     "output_type": "stream",
     "text": [
      "Score on train set is:  0.9614285714285714\n",
      "Score for test data is 0.9772012578616353\n",
      "Classification report for train set\n",
      "             precision    recall  f1-score   support\n",
      "\n",
      "        0.0       0.97      0.99      0.98       563\n",
      "        1.0       0.94      0.85      0.90       137\n",
      "\n",
      "avg / total       0.96      0.96      0.96       700\n",
      "\n",
      "Confusion matrix for train set\n",
      "[[556   7]\n",
      " [ 20 117]]\n",
      "Confusion matrix for train set\n",
      "[[1127    8]\n",
      " [  21  116]]\n",
      "Classification report for test set\n",
      "             precision    recall  f1-score   support\n",
      "\n",
      "        0.0       0.98      0.99      0.99      1135\n",
      "        1.0       0.94      0.85      0.89       137\n",
      "\n",
      "avg / total       0.98      0.98      0.98      1272\n",
      "\n"
     ]
    }
   ],
   "source": [
    "clf = IsolationForest(n_estimators=150,max_features=100,contamination=0.05,random_state=21)\n",
    "clf.fit(X_train)\n",
    "y_pred1 = clf.predict(valX)\n",
    "y_pred2 = clf.predict(testX)\n",
    "y_pred1[y_pred1==1]=0\n",
    "y_pred1[y_pred1==-1]=1\n",
    "y_pred2[y_pred2==1]=0\n",
    "y_pred2[y_pred2==-1]=1\n",
    "print (\"Score on train set is: \", accuracy_score(valY,y_pred1))\n",
    "print (\"Score for test data is\", accuracy_score(testY,y_pred2))\n",
    "print(\"Classification report for train set\")\n",
    "print(classification_report(valY,y_pred1))\n",
    "print(\"Confusion matrix for train set\")\n",
    "print(confusion_matrix(valY,y_pred1))\n",
    "print(\"Confusion matrix for train set\")\n",
    "print(confusion_matrix(testY,y_pred2))\n",
    "print(\"Classification report for test set\")\n",
    "print(classification_report(testY,y_pred2))"
   ]
  },
  {
   "cell_type": "code",
   "execution_count": 13,
   "metadata": {},
   "outputs": [
    {
     "data": {
      "image/png": "[encoded data removed]",
      "text/plain": [
       "<Figure size 432x288 with 1 Axes>"
      ]
     },
     "metadata": {},
     "output_type": "display_data"
    },
    {
     "name": "stdout",
     "output_type": "stream",
     "text": [
      "ROC AUC score is:  0.9198334351586868\n"
     ]
    }
   ],
   "source": [
    "# ROC AUC Curve\n",
    "\n",
    "from sklearn.metrics import roc_curve, auc\n",
    "from sklearn.metrics import roc_auc_score\n",
    "fpr,tpr,thresholds = roc_curve(testY,y_pred2)\n",
    "def plot_roc_curve(fpr,tpr,label=None):\n",
    "    plt.plot(fpr,tpr,linewidth=2,label=label)\n",
    "    plt.plot([0,1],[0,1],'k--')\n",
    "    plt.axis([0,1,0,1])\n",
    "    plt.xlabel('False Positive Rate')\n",
    "    plt.ylabel('True Positive Rate')\n",
    "\n",
    "plot_roc_curve(fpr,tpr)\n",
    "plt.show()\n",
    "\n",
    "\n",
    "print(\"ROC AUC score is: \",roc_auc_score(testY,y_pred2))\n"
   ]
  },
  {
   "cell_type": "code",
   "execution_count": null,
   "metadata": {},
   "outputs": [],
   "source": []
  }
 ],
 "metadata": {
  "kernelspec": {
   "display_name": "Python 3",
   "language": "python",
   "name": "python3"
  },
  "language_info": {
   "codemirror_mode": {
    "name": "ipython",
    "version": 3
   },
   "file_extension": ".py",
   "mimetype": "text/x-python",
   "name": "python",
   "nbconvert_exporter": "python",
   "pygments_lexer": "ipython3",
   "version": "3.6.4"
  }
 },
 "nbformat": 4,
 "nbformat_minor": 2
}
