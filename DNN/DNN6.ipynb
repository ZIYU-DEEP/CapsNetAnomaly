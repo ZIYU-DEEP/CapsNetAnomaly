{
 "cells": [
  {
   "cell_type": "code",
   "execution_count": 1,
   "metadata": {},
   "outputs": [
    {
     "name": "stderr",
     "output_type": "stream",
     "text": [
      "/home/inderjeet78/anaconda3/lib/python3.6/site-packages/h5py/__init__.py:36: FutureWarning: Conversion of the second argument of issubdtype from `float` to `np.floating` is deprecated. In future, it will be treated as `np.float64 == np.dtype(float).type`.\n",
      "  from ._conv import register_converters as _register_converters\n",
      "Using TensorFlow backend.\n"
     ]
    }
   ],
   "source": [
    "from __future__ import division, print_function, unicode_literals\n",
    "import matplotlib\n",
    "import matplotlib.pyplot as plt\n",
    "import numpy as np\n",
    "import tensorflow as tf\n",
    "tf.reset_default_graph()\n",
    "np.random.seed(42)\n",
    "tf.set_random_seed(42)\n",
    "import pandas as pd\n",
    "from sklearn.model_selection import train_test_split\n",
    "tf.reset_default_graph()\n",
    "from sklearn.preprocessing import StandardScaler\n",
    "from sklearn.decomposition import PCA\n",
    "from keras.models import Sequential\n",
    "from keras.layers import Dense\n",
    "import numpy\n",
    "# fix random seed for reproducibility\n",
    "numpy.random.seed(7)\n",
    "from sklearn.metrics import confusion_matrix,precision_recall_curve,auc,roc_auc_score,roc_curve,recall_score,classification_report,accuracy_score\n",
    "from sklearn.ensemble import GradientBoostingClassifier\n",
    "from pylab import rcParams\n",
    "from keras.models import Model, load_model\n",
    "from keras.layers import Input, Dense\n",
    "from keras.callbacks import ModelCheckpoint, TensorBoard\n",
    "from sklearn.preprocessing import StandardScaler\n",
    "from keras import regularizers"
   ]
  },
  {
   "cell_type": "code",
   "execution_count": 2,
   "metadata": {
    "scrolled": true
   },
   "outputs": [
    {
     "name": "stdout",
     "output_type": "stream",
     "text": [
      "WARNING:tensorflow:From <ipython-input-2-4141630e56b4>:3: read_data_sets (from tensorflow.contrib.learn.python.learn.datasets.mnist) is deprecated and will be removed in a future version.\n",
      "Instructions for updating:\n",
      "Please use alternatives such as official/mnist/dataset.py from tensorflow/models.\n",
      "WARNING:tensorflow:From /home/inderjeet78/anaconda3/lib/python3.6/site-packages/tensorflow/contrib/learn/python/learn/datasets/mnist.py:260: maybe_download (from tensorflow.contrib.learn.python.learn.datasets.base) is deprecated and will be removed in a future version.\n",
      "Instructions for updating:\n",
      "Please write your own downloading logic.\n",
      "WARNING:tensorflow:From /home/inderjeet78/anaconda3/lib/python3.6/site-packages/tensorflow/contrib/learn/python/learn/datasets/mnist.py:262: extract_images (from tensorflow.contrib.learn.python.learn.datasets.mnist) is deprecated and will be removed in a future version.\n",
      "Instructions for updating:\n",
      "Please use tf.data to implement this functionality.\n",
      "Extracting /tmp/data/train-images-idx3-ubyte.gz\n",
      "WARNING:tensorflow:From /home/inderjeet78/anaconda3/lib/python3.6/site-packages/tensorflow/contrib/learn/python/learn/datasets/mnist.py:267: extract_labels (from tensorflow.contrib.learn.python.learn.datasets.mnist) is deprecated and will be removed in a future version.\n",
      "Instructions for updating:\n",
      "Please use tf.data to implement this functionality.\n",
      "Extracting /tmp/data/train-labels-idx1-ubyte.gz\n",
      "Extracting /tmp/data/t10k-images-idx3-ubyte.gz\n",
      "Extracting /tmp/data/t10k-labels-idx1-ubyte.gz\n",
      "WARNING:tensorflow:From /home/inderjeet78/anaconda3/lib/python3.6/site-packages/tensorflow/contrib/learn/python/learn/datasets/mnist.py:290: DataSet.__init__ (from tensorflow.contrib.learn.python.learn.datasets.mnist) is deprecated and will be removed in a future version.\n",
      "Instructions for updating:\n",
      "Please use alternatives such as official/mnist/dataset.py from tensorflow/models.\n"
     ]
    }
   ],
   "source": [
    "from tensorflow.examples.tutorials.mnist import input_data\n",
    "\n",
    "mnist = input_data.read_data_sets(\"/tmp/data/\")"
   ]
  },
  {
   "cell_type": "code",
   "execution_count": 3,
   "metadata": {},
   "outputs": [
    {
     "name": "stdout",
     "output_type": "stream",
     "text": [
      "(5417, 785)\n",
      "(49583, 785)\n",
      "[[0. 0. 0. ... 0. 0. 7.]\n",
      " [0. 0. 0. ... 0. 0. 3.]\n",
      " [0. 0. 0. ... 0. 0. 4.]\n",
      " ...\n",
      " [0. 0. 0. ... 0. 0. 3.]\n",
      " [0. 0. 0. ... 0. 0. 5.]\n",
      " [0. 0. 0. ... 0. 0. 8.]]\n",
      "(49583, 785)\n",
      "(321, 785)\n"
     ]
    }
   ],
   "source": [
    "c1_x = mnist.train.images[mnist.train.labels==6]\n",
    "c1_y = mnist.train.labels[mnist.train.labels==6]\n",
    "c1_y = c1_y[:,None]\n",
    "other_x = mnist.train.images[mnist.train.labels!=6]\n",
    "other_y = mnist.train.labels[mnist.train.labels!=6]\n",
    "other_y=other_y[:,None]\n",
    "\n",
    "np.random.seed(42)\n",
    "c1 = np.concatenate((c1_x,c1_y),axis=1)\n",
    "others = np.concatenate((other_x,other_y), axis=1)\n",
    "print(c1.shape)\n",
    "print(others.shape)\n",
    "print(others)\n",
    "np.random.shuffle(others)\n",
    "others = np.array(others)\n",
    "print(others.shape)\n",
    "others321 = others[0:321,:]\n",
    "print(others321.shape)\n",
    "train = np.concatenate((c1,others321),axis=0)\n",
    "np.random.shuffle(train)\n",
    "X_train = train[:,0:-1]\n",
    "Y_train = train[:,-1]\n",
    "Y_train[Y_train==0]=1\n",
    "Y_train[Y_train==6]=0\n",
    "Y_train[Y_train!=0]=1\n",
    "\n",
    "sum(Y_train)\n",
    "\n",
    "# Validation data prepration\n",
    "\n",
    "np.random.seed(42)\n",
    "valX_ones = mnist.validation.images[mnist.validation.labels==6]\n",
    "valY_ones = mnist.validation.labels[mnist.validation.labels==6]\n",
    "valX_others = mnist.validation.images[mnist.validation.labels!=6]\n",
    "valY_others = mnist.validation.labels[mnist.validation.labels!=6]\n",
    "valY_ones = valY_ones[:,None]\n",
    "valY_others = valY_others[:,None]\n",
    "val_ones = np.concatenate((valX_ones,valY_ones),axis=1)\n",
    "val_others = np.concatenate((valX_others,valY_others),axis=1)\n",
    "np.random.shuffle(val_others)\n",
    "val_others137 = val_others[0:137,:]\n",
    "val = np.concatenate((val_ones,val_others137),axis=0)\n",
    "np.random.shuffle(val)\n",
    "valX = val[:,0:-1]\n",
    "valY = val[:,-1]\n",
    "valY[valY==0]=1\n",
    "valY[valY==6]=0\n",
    "valY[valY!=0]=1\n",
    "\n",
    "sum(valY)\n",
    "\n",
    "# Test data prepration\n",
    "\n",
    "np.random.seed(42)\n",
    "testX_ones = mnist.test.images[mnist.test.labels==6]\n",
    "testY_ones = mnist.test.labels[mnist.test.labels==6]\n",
    "testX_others = mnist.test.images[mnist.test.labels!=6]\n",
    "testY_others = mnist.test.labels[mnist.test.labels!=6]\n",
    "testY_ones = testY_ones[:,None]\n",
    "testY_others = testY_others[:,None]\n",
    "test_ones = np.concatenate((testX_ones,testY_ones),axis=1)\n",
    "test_others = np.concatenate((testX_others,testY_others),axis=1)\n",
    "np.random.shuffle(test_others)\n",
    "test_others137 = test_others[0:137,:]\n",
    "test = np.concatenate((test_ones,test_others137),axis=0)\n",
    "np.random.shuffle(test)\n",
    "testX = test[:,0:-1]\n",
    "testY = test[:,-1]\n",
    "testY[testY==0]=1\n",
    "testY[testY==6]=0\n",
    "testY[testY!=0]=1"
   ]
  },
  {
   "cell_type": "markdown",
   "metadata": {},
   "source": [
    "# Model Prepration"
   ]
  },
  {
   "cell_type": "code",
   "execution_count": 4,
   "metadata": {},
   "outputs": [
    {
     "name": "stdout",
     "output_type": "stream",
     "text": [
      "Epoch 1/10\n",
      "5738/5738 [==============================] - 1s 102us/step - loss: 0.2098 - acc: 0.8848\n",
      "Epoch 2/10\n",
      "5738/5738 [==============================] - 0s 45us/step - loss: 0.0417 - acc: 0.9845\n",
      "Epoch 3/10\n",
      "5738/5738 [==============================] - 0s 44us/step - loss: 0.0209 - acc: 0.9918\n",
      "Epoch 4/10\n",
      "5738/5738 [==============================] - 0s 44us/step - loss: 0.0128 - acc: 0.9946\n",
      "Epoch 5/10\n",
      "5738/5738 [==============================] - 0s 45us/step - loss: 0.0091 - acc: 0.9965\n",
      "Epoch 6/10\n",
      "5738/5738 [==============================] - 0s 44us/step - loss: 0.0047 - acc: 0.9983\n",
      "Epoch 7/10\n",
      "5738/5738 [==============================] - 0s 45us/step - loss: 0.0027 - acc: 0.9991\n",
      "Epoch 8/10\n",
      "5738/5738 [==============================] - 0s 46us/step - loss: 0.0010 - acc: 0.9998\n",
      "Epoch 9/10\n",
      "5738/5738 [==============================] - 0s 44us/step - loss: 4.7517e-04 - acc: 1.0000\n",
      "Epoch 10/10\n",
      "5738/5738 [==============================] - 0s 44us/step - loss: 2.7998e-04 - acc: 1.0000\n",
      "638/638 [==============================] - 0s 104us/step\n",
      "\n",
      "acc: 98.59%\n"
     ]
    }
   ],
   "source": [
    "# create model\n",
    "model = Sequential()\n",
    "model.add(Dense(1024, input_dim=784, activation='relu'))\n",
    "model.add(Dense(512, activation='relu'))\n",
    "model.add(Dense(128, activation='tanh'))\n",
    "model.add(Dense(64, activation='relu'))\n",
    "model.add(Dense(1, activation='sigmoid'))\n",
    "\n",
    "# Compile model\n",
    "model.compile(loss='binary_crossentropy', optimizer='adam', metrics=['accuracy'])\n",
    "\n",
    "# Fit the model\n",
    "model.fit(X_train, Y_train, epochs=10, batch_size=512)\n",
    "\n",
    "# evaluate the model\n",
    "scores = model.evaluate(valX, valY)\n",
    "print(\"\\n%s: %.2f%%\" % (model.metrics_names[1], scores[1]*100))\n",
    "\n",
    "# calculate predictions\n",
    "predictions = model.predict(testX)\n",
    "predictionst = model.predict(X_train)\n",
    "predictionsval = model.predict(valX)\n",
    "# round predictions\n",
    "rounded = [round(x[0]) for x in predictions]\n",
    "rounded2 = [round(x[0]) for x in predictionst]\n",
    "roundedval = [round(x[0]) for x in predictionsval]"
   ]
  },
  {
   "cell_type": "code",
   "execution_count": null,
   "metadata": {},
   "outputs": [],
   "source": []
  },
  {
   "cell_type": "code",
   "execution_count": null,
   "metadata": {},
   "outputs": [],
   "source": []
  },
  {
   "cell_type": "markdown",
   "metadata": {},
   "source": [
    "# Training Set Predictions"
   ]
  },
  {
   "cell_type": "code",
   "execution_count": 5,
   "metadata": {},
   "outputs": [
    {
     "name": "stdout",
     "output_type": "stream",
     "text": [
      "Train roc auc score is :  1.0\n",
      "Accuracy :  1.0\n",
      "Classification report is : \n",
      "             precision    recall  f1-score   support\n",
      "\n",
      "        0.0       1.00      1.00      1.00      5417\n",
      "        1.0       1.00      1.00      1.00       321\n",
      "\n",
      "avg / total       1.00      1.00      1.00      5738\n",
      "\n",
      "Confusion Matrix for test set is : \n",
      "[[5417    0]\n",
      " [   0  321]]\n"
     ]
    }
   ],
   "source": [
    "print(\"Train roc auc score is : \", roc_auc_score(Y_train,rounded2))\n",
    "print(\"Accuracy : \",accuracy_score(Y_train,rounded2))\n",
    "print(\"Classification report is : \")\n",
    "print(classification_report(Y_train, rounded2))\n",
    "print(\"Confusion Matrix for test set is : \")\n",
    "print(confusion_matrix(Y_train,rounded2))"
   ]
  },
  {
   "cell_type": "markdown",
   "metadata": {},
   "source": [
    "# Validation set predictions"
   ]
  },
  {
   "cell_type": "code",
   "execution_count": 6,
   "metadata": {},
   "outputs": [
    {
     "name": "stdout",
     "output_type": "stream",
     "text": [
      "Test roc auc score is :  0.9698049157160132\n",
      "Accuracy :  0.9858934169278997\n",
      "Classification report is : \n",
      "             precision    recall  f1-score   support\n",
      "\n",
      "        0.0       0.98      1.00      0.99       501\n",
      "        1.0       0.99      0.94      0.97       137\n",
      "\n",
      "avg / total       0.99      0.99      0.99       638\n",
      "\n",
      "Confusion Matrix for test set is : \n",
      "[[500   1]\n",
      " [  8 129]]\n"
     ]
    }
   ],
   "source": [
    "print(\"Test roc auc score is : \", roc_auc_score(valY,roundedval))\n",
    "print(\"Accuracy : \",accuracy_score(valY,roundedval))\n",
    "print(\"Classification report is : \")\n",
    "print(classification_report(valY,roundedval))\n",
    "print(\"Confusion Matrix for test set is : \")\n",
    "print(confusion_matrix(valY,roundedval))"
   ]
  },
  {
   "cell_type": "markdown",
   "metadata": {},
   "source": [
    "# Test Set Predictions"
   ]
  },
  {
   "cell_type": "code",
   "execution_count": 7,
   "metadata": {},
   "outputs": [
    {
     "name": "stdout",
     "output_type": "stream",
     "text": [
      "Test roc auc score is :  0.9499451411852552\n",
      "Accuracy :  0.9835616438356164\n",
      "Classification report is : \n",
      "             precision    recall  f1-score   support\n",
      "\n",
      "        0.0       0.99      0.99      0.99       958\n",
      "        1.0       0.96      0.91      0.93       137\n",
      "\n",
      "avg / total       0.98      0.98      0.98      1095\n",
      "\n",
      "Confusion Matrix for test set is : \n",
      "[[953   5]\n",
      " [ 13 124]]\n"
     ]
    }
   ],
   "source": [
    "print(\"Test roc auc score is : \", roc_auc_score(testY,rounded))\n",
    "print(\"Accuracy : \",accuracy_score(testY,rounded))\n",
    "print(\"Classification report is : \")\n",
    "print(classification_report(testY, rounded))\n",
    "print(\"Confusion Matrix for test set is : \")\n",
    "print(confusion_matrix(testY,rounded))"
   ]
  },
  {
   "cell_type": "markdown",
   "metadata": {},
   "source": [
    "# ROC AUC Curve"
   ]
  },
  {
   "cell_type": "code",
   "execution_count": 8,
   "metadata": {},
   "outputs": [
    {
     "data": {
      "image/png": "[encoded data removed]",
      "text/plain": [
       "<Figure size 432x288 with 1 Axes>"
      ]
     },
     "metadata": {},
     "output_type": "display_data"
    },
    {
     "name": "stdout",
     "output_type": "stream",
     "text": [
      "ROC AUC score is:  0.9973789677399693\n"
     ]
    }
   ],
   "source": [
    "from sklearn.metrics import roc_curve, auc\n",
    "from sklearn.metrics import roc_auc_score\n",
    "fpr,tpr,thresholds = roc_curve(testY,predictions)\n",
    "def plot_roc_curve(fpr,tpr,label=None):\n",
    "    plt.plot(fpr,tpr,linewidth=2,label=label)\n",
    "    plt.plot([0,1],[0,1],'k--')\n",
    "    plt.axis([0,1,0,1])\n",
    "    plt.xlabel('False Positive Rate')\n",
    "    plt.ylabel('True Positive Rate')\n",
    "\n",
    "plot_roc_curve(fpr,tpr)\n",
    "plt.show()\n",
    "\n",
    "\n",
    "print(\"ROC AUC score is: \",roc_auc_score(testY,predictions))\n"
   ]
  },
  {
   "cell_type": "code",
   "execution_count": null,
   "metadata": {},
   "outputs": [],
   "source": []
  }
 ],
 "metadata": {
  "kernelspec": {
   "display_name": "Python 3",
   "language": "python",
   "name": "python3"
  },
  "language_info": {
   "codemirror_mode": {
    "name": "ipython",
    "version": 3
   },
   "file_extension": ".py",
   "mimetype": "text/x-python",
   "name": "python",
   "nbconvert_exporter": "python",
   "pygments_lexer": "ipython3",
   "version": "3.6.5"
  }
 },
 "nbformat": 4,
 "nbformat_minor": 2
}
